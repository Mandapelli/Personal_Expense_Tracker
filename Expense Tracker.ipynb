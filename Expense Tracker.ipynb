{
 "cells": [
  {
   "cell_type": "code",
   "execution_count": 1,
   "id": "dfd97240-a2f0-494f-8f02-fd69532c3bf1",
   "metadata": {},
   "outputs": [
    {
     "name": "stdout",
     "output_type": "stream",
     "text": [
      "\n",
      "1. Log an expense\n",
      "\n",
      "2. Show summary\n",
      "\n",
      "3. Exit\n"
     ]
    },
    {
     "name": "stdin",
     "output_type": "stream",
     "text": [
      "\n",
      "Enter your choice (1, 2, 3):  1\n",
      "Enter expense name:  transport\n",
      "Enter expense amount:  400\n",
      "Enter expense category:  tickets\n"
     ]
    },
    {
     "name": "stdout",
     "output_type": "stream",
     "text": [
      "Expense 'transport' of amount 400.0 added to category 'tickets'!\n",
      "\n",
      "\n",
      "1. Log an expense\n",
      "\n",
      "2. Show summary\n",
      "\n",
      "3. Exit\n"
     ]
    },
    {
     "name": "stdin",
     "output_type": "stream",
     "text": [
      "\n",
      "Enter your choice (1, 2, 3):  1\n",
      "Enter expense name:  coffee\n",
      "Enter expense amount:  200\n",
      "Enter expense category:  food\n"
     ]
    },
    {
     "name": "stdout",
     "output_type": "stream",
     "text": [
      "Expense 'coffee' of amount 200.0 added to category 'food'!\n",
      "\n",
      "\n",
      "1. Log an expense\n",
      "\n",
      "2. Show summary\n",
      "\n",
      "3. Exit\n"
     ]
    },
    {
     "name": "stdin",
     "output_type": "stream",
     "text": [
      "\n",
      "Enter your choice (1, 2, 3):  2\n"
     ]
    },
    {
     "name": "stdout",
     "output_type": "stream",
     "text": [
      "Expense Summary by Category:\n",
      "Category: tickets, Total: 400.0\n",
      "Category: food, Total: 200.0\n",
      "\n",
      "1. Log an expense\n",
      "\n",
      "2. Show summary\n",
      "\n",
      "3. Exit\n"
     ]
    },
    {
     "name": "stdin",
     "output_type": "stream",
     "text": [
      "\n",
      "Enter your choice (1, 2, 3):  1\n",
      "Enter expense name:  water\n",
      "Enter expense amount:  200\n",
      "Enter expense category:  food\n"
     ]
    },
    {
     "name": "stdout",
     "output_type": "stream",
     "text": [
      "Expense 'water' of amount 200.0 added to category 'food'!\n",
      "\n",
      "\n",
      "1. Log an expense\n",
      "\n",
      "2. Show summary\n",
      "\n",
      "3. Exit\n"
     ]
    },
    {
     "name": "stdin",
     "output_type": "stream",
     "text": [
      "\n",
      "Enter your choice (1, 2, 3):  2\n"
     ]
    },
    {
     "name": "stdout",
     "output_type": "stream",
     "text": [
      "Expense Summary by Category:\n",
      "Category: tickets, Total: 400.0\n",
      "Category: food, Total: 400.0\n",
      "\n",
      "1. Log an expense\n",
      "\n",
      "2. Show summary\n",
      "\n",
      "3. Exit\n"
     ]
    },
    {
     "name": "stdin",
     "output_type": "stream",
     "text": [
      "\n",
      "Enter your choice (1, 2, 3):  3\n"
     ]
    },
    {
     "name": "stdout",
     "output_type": "stream",
     "text": [
      "Exiting the tracker. Goodbye!\n"
     ]
    }
   ],
   "source": [
    "def expense_tracker():\n",
    "    # List to store expense \n",
    "    expense_list = []\n",
    "    \n",
    "    # Set to store unique categories\n",
    "    categories = set()\n",
    "\n",
    "    # Function to log an expense\n",
    "    def log_expense():\n",
    "        # Input for the expense name, amount, and category\n",
    "        name = input(\"Enter expense name: \")\n",
    "        amount = int(input(\"Enter expense amount: \"))\n",
    "        category = input(\"Enter expense category: \")\n",
    "        \n",
    "        # Add the category to the set\n",
    "        categories.add(category)\n",
    "        \n",
    "        # Append the expense (name, amount, category) as a tuple to the list\n",
    "        expense_list.append((name, amount, category))\n",
    "        print(f\"Expense '{name}' of amount {amount} added to category '{category}'!\\n\")\n",
    "\n",
    "    # Function to show a summary of expenses by category\n",
    "    def show_summary():\n",
    "        # Create a dictionary, and the value is the sum of amounts for that category\n",
    "        summary = {category: sum(amount for name, amount, cat in expense_list if cat == category) for category in categories}\n",
    "        print(\"Expense Summary by Category:\")\n",
    "        for category, total in summary.items():\n",
    "            print(f\"Category: {category}, Total: {total}\")\n",
    "    \n",
    "    # Main loop to keep the tracker running\n",
    "    while True:\n",
    "        print(\"\\n1. Log an expense\")\n",
    "        print(\"\\n2. Show summary\")\n",
    "        print(\"\\n3. Exit\")\n",
    "\n",
    "        choice = input(\"\\nEnter your choice (1, 2, 3): \")\n",
    "\n",
    "        if choice == '1':\n",
    "            log_expense()\n",
    "        elif choice == '2':\n",
    "            show_summary()\n",
    "        elif choice == '3':\n",
    "            print(\"Exiting the tracker. Goodbye!\")\n",
    "            break\n",
    "        else:\n",
    "            print(\"Invalid choice! Please try again.\\n\")\n",
    "\n",
    "\n",
    "expense_tracker()\n"
   ]
  },
  {
   "cell_type": "code",
   "execution_count": null,
   "id": "71a49eee-0e18-4ad0-84b7-e58e3e3a11f7",
   "metadata": {},
   "outputs": [],
   "source": []
  }
 ],
 "metadata": {
  "kernelspec": {
   "display_name": "Python 3 (ipykernel)",
   "language": "python",
   "name": "python3"
  },
  "language_info": {
   "codemirror_mode": {
    "name": "ipython",
    "version": 3
   },
   "file_extension": ".py",
   "mimetype": "text/x-python",
   "name": "python",
   "nbconvert_exporter": "python",
   "pygments_lexer": "ipython3",
   "version": "3.12.4"
  }
 },
 "nbformat": 4,
 "nbformat_minor": 5
}
